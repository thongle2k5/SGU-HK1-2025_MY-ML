











# importing pandas, and other necessary modules
import pandas as pd
import matplotlib.pyplot as plt
import seaborn as sns 
import numpy as np





df=sns.load_dataset('iris')


#Alternative
'''
from sklearn import datasets
iris = datasets.load_iris()
X = iris.data
y = iris.target
iris_df=pd.DataFrame(X, columns=iris.feature_names)
iris_df['target']=y
'''





df


df.shape


df.head()





df.info()





df.isnull().sum()





df.describe()





df['species'].value_counts()





df.corr()














df["species"].value_counts().plot.bar()





#we can use bar chart
counts = df["species"].value_counts()
plt.bar(counts.index, counts.values)


#one way using histogram :)
plt.hist(df['species'])





sns.countplot(x = df['species']);























df.plot.scatter('sepal_length','sepal_width')





plt.scatter('sepal_length', 'sepal_width', data=df)


plt.scatter(df['sepal_length'], df['sepal_width'])


#using plt
plt.plot('sepal_length', 'sepal_width', data=df, marker='.',linestyle='none')





sns.scatterplot(x = df['sepal_length'], y = df['sepal_width'])
#or sns.scatter('sepal_length', 'sepal_width', data=df)


# With respect to the target class (species)
sns.scatterplot(x = 'sepal_length', y = 'sepal_width', hue=df['species'], data=df)














sns.pairplot(df)


sns.pairplot(df,hue="species")














fig = plt.figure(figsize = (15,9))
sns.heatmap(df.corr(), cmap='Blues', annot = True);








df.hist();





sns.boxplot(x='species', y='sepal_length', data=df)


df.boxplot(by="species", figsize=(12, 8));


sns.violinplot(x='species', y='sepal_length', data=df)

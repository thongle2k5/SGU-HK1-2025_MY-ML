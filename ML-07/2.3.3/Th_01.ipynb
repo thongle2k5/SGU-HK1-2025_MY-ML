{
 "cells": [
  {
   "cell_type": "markdown",
   "id": "d984dd13",
   "metadata": {},
   "source": [
    "# 1. Import thư viện và nạp dữ liệu vào notebook"
   ]
  },
  {
   "cell_type": "code",
   "execution_count": null,
   "id": "014aa669",
   "metadata": {},
   "outputs": [
    {
     "data": {
      "text/html": [
       "<div>\n",
       "<style scoped>\n",
       "    .dataframe tbody tr th:only-of-type {\n",
       "        vertical-align: middle;\n",
       "    }\n",
       "\n",
       "    .dataframe tbody tr th {\n",
       "        vertical-align: top;\n",
       "    }\n",
       "\n",
       "    .dataframe thead th {\n",
       "        text-align: right;\n",
       "    }\n",
       "</style>\n",
       "<table border=\"1\" class=\"dataframe\">\n",
       "  <thead>\n",
       "    <tr style=\"text-align: right;\">\n",
       "      <th></th>\n",
       "      <th>User ID</th>\n",
       "      <th>Gender</th>\n",
       "      <th>Age</th>\n",
       "      <th>EstimatedSalary</th>\n",
       "      <th>Purchased</th>\n",
       "    </tr>\n",
       "  </thead>\n",
       "  <tbody>\n",
       "    <tr>\n",
       "      <th>0</th>\n",
       "      <td>15624510</td>\n",
       "      <td>Male</td>\n",
       "      <td>19</td>\n",
       "      <td>19000</td>\n",
       "      <td>0</td>\n",
       "    </tr>\n",
       "    <tr>\n",
       "      <th>1</th>\n",
       "      <td>15810944</td>\n",
       "      <td>Male</td>\n",
       "      <td>35</td>\n",
       "      <td>20000</td>\n",
       "      <td>0</td>\n",
       "    </tr>\n",
       "    <tr>\n",
       "      <th>2</th>\n",
       "      <td>15668575</td>\n",
       "      <td>Female</td>\n",
       "      <td>26</td>\n",
       "      <td>43000</td>\n",
       "      <td>0</td>\n",
       "    </tr>\n",
       "    <tr>\n",
       "      <th>3</th>\n",
       "      <td>15603246</td>\n",
       "      <td>Female</td>\n",
       "      <td>27</td>\n",
       "      <td>57000</td>\n",
       "      <td>0</td>\n",
       "    </tr>\n",
       "    <tr>\n",
       "      <th>4</th>\n",
       "      <td>15804002</td>\n",
       "      <td>Male</td>\n",
       "      <td>19</td>\n",
       "      <td>76000</td>\n",
       "      <td>0</td>\n",
       "    </tr>\n",
       "  </tbody>\n",
       "</table>\n",
       "</div>"
      ],
      "text/plain": [
       "    User ID  Gender  Age  EstimatedSalary  Purchased\n",
       "0  15624510    Male   19            19000          0\n",
       "1  15810944    Male   35            20000          0\n",
       "2  15668575  Female   26            43000          0\n",
       "3  15603246  Female   27            57000          0\n",
       "4  15804002    Male   19            76000          0"
      ]
     },
     "execution_count": 10,
     "metadata": {},
     "output_type": "execute_result"
    }
   ],
   "source": [
    "#Importing the Necessary libraries\n",
    "import numpy as np\n",
    "import pandas as pd\n",
    "from sklearn.model_selection import train_test_split\n",
    "from sklearn.feature_extraction.text import CountVectorizer\n",
    "from sklearn.naive_bayes import GaussianNB\n",
    "from sklearn.metrics import accuracy_score, confusion_matrix,classification_report\n",
    "data = pd.read_csv('Customer_Behaviour.csv',encoding='latin-1')\n",
    "#display the first 5 rows\n",
    "data.head()"
   ]
  },
  {
   "cell_type": "markdown",
   "id": "f600f74c",
   "metadata": {},
   "source": [
    "# 2. Xử lý dữ liệu trước khi xây dựng mô hình từ dữ liệu"
   ]
  },
  {
   "cell_type": "code",
   "execution_count": 17,
   "id": "d125265d",
   "metadata": {},
   "outputs": [],
   "source": [
    "X=data.drop(columns=['Purchased'])\n",
    "X=X.drop(columns=['User ID'])\n",
    "y=data['Purchased']\n",
    "X_train, X_test, y_train, y_test = train_test_split(X, y, test_size=0.2,\n",
    "random_state=42)\n",
    "numerical_features = ['Age', 'EstimatedSalary']\n",
    "categorical_features = ['Gender']"
   ]
  },
  {
   "cell_type": "code",
   "execution_count": null,
   "id": "996f9a05",
   "metadata": {},
   "outputs": [
    {
     "name": "stdout",
     "output_type": "stream",
     "text": [
      "ColumnTransformer(transformers=[('num', StandardScaler(),\n",
      "                                 ['Age', 'EstimatedSalary']),\n",
      "                                ('cat',\n",
      "                                 OneHotEncoder(handle_unknown='ignore',\n",
      "                                               sparse_output=False),\n",
      "                                 ['Gender'])])\n"
     ]
    }
   ],
   "source": [
    "from sklearn.preprocessing import OneHotEncoder, StandardScaler\n",
    "from sklearn.compose import ColumnTransformer\n",
    "from sklearn.pipeline import Pipeline\n",
    "\n",
    "# Bộ chuyển đổi cho dữ liệu số: Chuẩn hóa (Scaling)\n",
    "numerical_transformer = StandardScaler()\n",
    "\n",
    "# Bộ chuyển đổi cho dữ liệu phân loại: Mã hóa One-Hot\n",
    "categorical_transformer = OneHotEncoder(handle_unknown='ignore', sparse_output=False) \n",
    "\n",
    "# Kết hợp các bộ chuyển đổi\n",
    "preprocessor = ColumnTransformer(\n",
    "    transformers=[\n",
    "        ('num', numerical_transformer, numerical_features),\n",
    "        ('cat', categorical_transformer, categorical_features)\n",
    "    ],\n",
    "    remainder='drop' # Loại bỏ các cột không được định nghĩa (như User ID nếu chưa loại bỏ)\n",
    ")\n"
   ]
  },
  {
   "cell_type": "markdown",
   "id": "dd6eb70c",
   "metadata": {},
   "source": [
    "# 3.Xây dựng và huấn luyện"
   ]
  },
  {
   "cell_type": "code",
   "execution_count": null,
   "id": "aaeb9f5e",
   "metadata": {},
   "outputs": [
    {
     "name": "stdout",
     "output_type": "stream",
     "text": [
      "Pipeline(steps=[('preprocessor',\n",
      "                 ColumnTransformer(transformers=[('num', StandardScaler(),\n",
      "                                                  ['Age', 'EstimatedSalary']),\n",
      "                                                 ('cat',\n",
      "                                                  OneHotEncoder(handle_unknown='ignore',\n",
      "                                                                sparse_output=False),\n",
      "                                                  ['Gender'])])),\n",
      "                ('classifier', GaussianNB())])\n",
      "Độ chính xác (Accuracy): 0.9250\n"
     ]
    }
   ],
   "source": [
    "from sklearn.metrics import accuracy_score\n",
    "# Tạo Pipeline hoàn chỉnh\n",
    "model = Pipeline(steps=[\n",
    "    ('preprocessor', preprocessor),\n",
    "    ('classifier', GaussianNB()) \n",
    "])\n",
    "# Huấn luyện mô hình\n",
    "# Pipeline sẽ tự động:\n",
    "# 1. Chuẩn hóa Age/EstimatedSalary và Mã hóa Gender trên X_train.\n",
    "# 2. Huấn luyện GaussianNB trên dữ liệu đã được tiền xử lý.\n",
    "model.fit(X_train, y_train)\n",
    "\n",
    "# Dự đoán và Đánh giá\n",
    "y_pred = model.predict(X_test)\n",
    "accuracy = accuracy_score(y_test, y_pred)\n",
    "\n",
    "print(f\"Độ chính xác (Accuracy): {accuracy:.4f}\")"
   ]
  }
 ],
 "metadata": {
  "kernelspec": {
   "display_name": "base",
   "language": "python",
   "name": "python3"
  },
  "language_info": {
   "codemirror_mode": {
    "name": "ipython",
    "version": 3
   },
   "file_extension": ".py",
   "mimetype": "text/x-python",
   "name": "python",
   "nbconvert_exporter": "python",
   "pygments_lexer": "ipython3",
   "version": "3.13.5"
  }
 },
 "nbformat": 4,
 "nbformat_minor": 5
}
